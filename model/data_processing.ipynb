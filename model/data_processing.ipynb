{
 "cells": [
  {
   "cell_type": "code",
   "execution_count": 1,
   "metadata": {},
   "outputs": [],
   "source": [
    "# Importing the required packages\n",
    "import numpy as np\n",
    "import pandas as pd\n",
    "import h5py\n",
    "import matplotlib.pyplot as plt\n",
    "get_ipython().run_line_magic('matplotlib', 'inline')\n",
    "# List of all standard 20 amino acids \n",
    "aaList = 'ARNDCQEGHILKMFPSTWYV'\n",
    "# scores for amino acid indices\n",
    "scores = pd.read_csv(\"./data/physicochemical_scores.csv\", index_col=0)"
   ]
  },
  {
   "cell_type": "code",
   "execution_count": 30,
   "metadata": {},
   "outputs": [],
   "source": [
    "df = pd.read_csv(\"./data/MHC-1_processed.csv\")\n",
    "alleles_list = list(pd.unique(df['allele']))\n",
    "A_alleles = list(np.sort([idx for idx in alleles_list if idx.startswith(\"HLA-A\")]))\n",
    "B_alleles = list(np.sort([idx for idx in alleles_list if idx.startswith(\"HLA-B\")]))\n",
    "C_alleles = list(np.sort([idx for idx in alleles_list if idx.startswith(\"HLA-C\")]))\n",
    "all_alleles = [y for x in [A_alleles, B_alleles, C_alleles] for y in x]\n",
    "targeted_alleles =[]\n",
    "summary_df = pd.DataFrame(columns= ['Allele', '#Peptides'])\n",
    "for mhc in all_alleles:\n",
    "    sub_df = df[df['allele'] == mhc]\n",
    "    if sub_df.shape[0] >= 200:\n",
    "        targeted_alleles.append(mhc)\n",
    "        summary_df = summary_df.append({'Allele': mhc, '#Peptides':sub_df.shape[0]}, ignore_index=True)\n",
    "#print(summary_df)\n",
    "#targeted_alleles\n",
    "sdf = summary_df.rename(index = {i: i +1 for i in range(summary_df.shape[0])})\n",
    "#print(sdf.to_latex(col_space = 5, longtable=True, index = False))"
   ]
  },
  {
   "cell_type": "code",
   "execution_count": 35,
   "metadata": {},
   "outputs": [
    {
     "data": {
      "text/plain": [
       "38550"
      ]
     },
     "execution_count": 35,
     "metadata": {},
     "output_type": "execute_result"
    }
   ],
   "source": [
    "np.sum(sdf['#Peptides'])\n"
   ]
  },
  {
   "cell_type": "code",
   "execution_count": 3,
   "metadata": {},
   "outputs": [],
   "source": [
    "# function to read peptides belong to a given allel\n",
    "def read_peptids(allele):\n",
    "    d = pd.read_csv(\"./data/MHC-1_processed.csv\")\n",
    "    #print(d.shape)\n",
    "    d = d[d['allele']==allele]\n",
    "    print(d.shape)\n",
    "    peptids_lengths = [len(i) for i in d[\"peptide\"]]\n",
    "    print(max(peptids_lengths), np.mean(peptids_lengths))\n",
    "    #plt.hist(x= peptids_lengths, bins= range(min(peptids_lengths), max(peptids_lengths)+2),  log= True, color='red')\n",
    "    plt.boxplot(x= peptids_lengths)\n",
    "    plt.show()\n",
    "    return pd.DataFrame(d)\n",
    "#read_peptids('HLA-A11:01')\n",
    "\n",
    "def get_processed(peptide):\n",
    "    '''\n",
    "     A function to generate 2-dim image like array for AA sequences of a given peptide\n",
    "    '''\n",
    "    df = pd.DataFrame(0.05*np.ones((20,9)), index = [aa for aa in aaList], columns= list(range(9)))\n",
    "    lm = min(len(peptide), 9)\n",
    "    for i in range(lm):\n",
    "        df.loc[peptide[i], i] = 0.9 \n",
    "    return df\n",
    "\n",
    "def process_data(allele=\"HLA-A02:01\"):\n",
    "    '''\n",
    "    function to process the entire data set for particular allele  \n",
    "    ''' \n",
    "    df = read_peptids(allele)\n",
    "    m = df.shape[0]\n",
    "    #creating a place holder for matrix\n",
    "    mat = np.zeros((m,20, 9))\n",
    "    for i in range(m):\n",
    "        mat[i,...] = get_processed(list(df['peptide'])[i])\n",
    "    print(\"all is done for  %s  allele\" %(allele))\n",
    "    return mat\n"
   ]
  },
  {
   "cell_type": "code",
   "execution_count": 4,
   "metadata": {},
   "outputs": [],
   "source": [
    "df = pd.read_csv(\"./data/MHC-1_processed.csv\")\n",
    "alleles_list = list(pd.unique(df['allele']))\n",
    "A_alleles = list(np.sort([idx for idx in alleles_list if idx.startswith(\"HLA-A\")]))\n",
    "B_alleles = list(np.sort([idx for idx in alleles_list if idx.startswith(\"HLA-B\")]))\n",
    "C_alleles = list(np.sort([idx for idx in alleles_list if idx.startswith(\"HLA-C\")]))"
   ]
  },
  {
   "cell_type": "code",
   "execution_count": null,
   "metadata": {},
   "outputs": [
    {
     "name": "stdout",
     "output_type": "stream",
     "text": [
      "(734, 3)\n",
      "12 9.241144414168938\n"
     ]
    },
    {
     "data": {
      "image/png": "[encoded data removed]",
      "text/plain": [
       "<Figure size 432x288 with 1 Axes>"
      ]
     },
     "metadata": {
      "needs_background": "light"
     },
     "output_type": "display_data"
    },
    {
     "name": "stdout",
     "output_type": "stream",
     "text": [
      "all is done for  HLA-A01:01  allele\n",
      "(4814, 3)\n",
      "14 9.288948899044454\n"
     ]
    },
    {
     "data": {
      "image/png": "[encoded data removed]",
      "text/plain": [
       "<Figure size 432x288 with 1 Axes>"
      ]
     },
     "metadata": {
      "needs_background": "light"
     },
     "output_type": "display_data"
    },
    {
     "name": "stdout",
     "output_type": "stream",
     "text": [
      "all is done for  HLA-A02:01  allele\n",
      "(1869, 3)\n",
      "14 9.396468699839486\n"
     ]
    },
    {
     "data": {
      "image/png": "[encoded data removed]",
      "text/plain": [
       "<Figure size 432x288 with 1 Axes>"
      ]
     },
     "metadata": {
      "needs_background": "light"
     },
     "output_type": "display_data"
    },
    {
     "name": "stdout",
     "output_type": "stream",
     "text": [
      "all is done for  HLA-A02:02  allele\n",
      "(2424, 3)\n",
      "14 9.35973597359736\n"
     ]
    },
    {
     "data": {
      "image/png": "[encoded data removed]",
      "text/plain": [
       "<Figure size 432x288 with 1 Axes>"
      ]
     },
     "metadata": {
      "needs_background": "light"
     },
     "output_type": "display_data"
    },
    {
     "name": "stdout",
     "output_type": "stream",
     "text": [
      "all is done for  HLA-A02:03  allele\n",
      "(2278, 3)\n",
      "14 9.32484635645303\n"
     ]
    },
    {
     "data": {
      "image/png": "[encoded data removed]",
      "text/plain": [
       "<Figure size 432x288 with 1 Axes>"
      ]
     },
     "metadata": {
      "needs_background": "light"
     },
     "output_type": "display_data"
    },
    {
     "name": "stdout",
     "output_type": "stream",
     "text": [
      "all is done for  HLA-A02:06  allele\n",
      "(404, 3)\n",
      "9 8.992574257425742\n"
     ]
    },
    {
     "data": {
      "image/png": "[encoded data removed]",
      "text/plain": [
       "<Figure size 432x288 with 1 Axes>"
      ]
     },
     "metadata": {
      "needs_background": "light"
     },
     "output_type": "display_data"
    },
    {
     "name": "stdout",
     "output_type": "stream",
     "text": [
      "all is done for  HLA-A02:11  allele\n",
      "(308, 3)\n",
      "9 8.993506493506494\n"
     ]
    },
    {
     "data": {
      "image/png": "[encoded data removed]",
      "text/plain": [
       "<Figure size 432x288 with 1 Axes>"
      ]
     },
     "metadata": {
      "needs_background": "light"
     },
     "output_type": "display_data"
    },
    {
     "name": "stdout",
     "output_type": "stream",
     "text": [
      "all is done for  HLA-A02:12  allele\n",
      "(234, 3)\n",
      "9 8.987179487179487\n"
     ]
    },
    {
     "data": {
      "image/png": "[encoded data removed]",
      "text/plain": [
       "<Figure size 432x288 with 1 Axes>"
      ]
     },
     "metadata": {
      "needs_background": "light"
     },
     "output_type": "display_data"
    },
    {
     "name": "stdout",
     "output_type": "stream",
     "text": [
      "all is done for  HLA-A02:19  allele\n",
      "(2180, 3)\n",
      "13 9.355045871559634\n"
     ]
    },
    {
     "data": {
      "image/png": "[encoded data removed]",
      "text/plain": [
       "<Figure size 432x288 with 1 Axes>"
      ]
     },
     "metadata": {
      "needs_background": "light"
     },
     "output_type": "display_data"
    },
    {
     "name": "stdout",
     "output_type": "stream",
     "text": [
      "all is done for  HLA-A03:01  allele\n",
      "(2226, 3)\n",
      "11 9.381850853548967\n"
     ]
    },
    {
     "data": {
      "image/png": "[encoded data removed]",
      "text/plain": [
       "<Figure size 432x288 with 1 Axes>"
      ]
     },
     "metadata": {
      "needs_background": "light"
     },
     "output_type": "display_data"
    },
    {
     "name": "stdout",
     "output_type": "stream",
     "text": [
      "all is done for  HLA-A11:01  allele\n",
      "(612, 3)\n",
      "13 9.320261437908497\n"
     ]
    },
    {
     "data": {
      "image/png": "[encoded data removed]",
      "text/plain": [
       "<Figure size 432x288 with 1 Axes>"
      ]
     },
     "metadata": {
      "needs_background": "light"
     },
     "output_type": "display_data"
    },
    {
     "name": "stdout",
     "output_type": "stream",
     "text": [
      "all is done for  HLA-A23:01  allele\n",
      "(753, 3)\n",
      "14 9.272244355909695\n"
     ]
    },
    {
     "data": {
      "image/png": "[encoded data removed]",
      "text/plain": [
       "<Figure size 432x288 with 1 Axes>"
      ]
     },
     "metadata": {
      "needs_background": "light"
     },
     "output_type": "display_data"
    },
    {
     "name": "stdout",
     "output_type": "stream",
     "text": [
      "all is done for  HLA-A24:02  allele\n",
      "(332, 3)\n",
      "10 9.0\n"
     ]
    },
    {
     "data": {
      "image/png": "[encoded data removed]",
      "text/plain": [
       "<Figure size 432x288 with 1 Axes>"
      ]
     },
     "metadata": {
      "needs_background": "light"
     },
     "output_type": "display_data"
    },
    {
     "name": "stdout",
     "output_type": "stream",
     "text": [
      "all is done for  HLA-A24:03  allele\n",
      "(516, 3)\n",
      "11 9.207364341085272\n"
     ]
    },
    {
     "data": {
      "image/png": "[encoded data removed]",
      "text/plain": [
       "<Figure size 432x288 with 1 Axes>"
      ]
     },
     "metadata": {
      "needs_background": "light"
     },
     "output_type": "display_data"
    },
    {
     "name": "stdout",
     "output_type": "stream",
     "text": [
      "all is done for  HLA-A26:01  allele\n",
      "(726, 3)\n",
      "13 9.269972451790634\n"
     ]
    },
    {
     "data": {
      "image/png": "[encoded data removed]",
      "text/plain": [
       "<Figure size 432x288 with 1 Axes>"
      ]
     },
     "metadata": {
      "needs_background": "light"
     },
     "output_type": "display_data"
    },
    {
     "name": "stdout",
     "output_type": "stream",
     "text": [
      "all is done for  HLA-A29:02  allele\n",
      "(776, 3)\n",
      "10 9.047680412371134\n"
     ]
    },
    {
     "data": {
      "image/png": "[encoded data removed]",
      "text/plain": [
       "<Figure size 432x288 with 1 Axes>"
      ]
     },
     "metadata": {
      "needs_background": "light"
     },
     "output_type": "display_data"
    },
    {
     "name": "stdout",
     "output_type": "stream",
     "text": [
      "all is done for  HLA-A30:01  allele\n",
      "(644, 3)\n",
      "11 9.383540372670808\n"
     ]
    },
    {
     "data": {
      "image/png": "[encoded data removed]",
      "text/plain": [
       "<Figure size 432x288 with 1 Axes>"
      ]
     },
     "metadata": {
      "needs_background": "light"
     },
     "output_type": "display_data"
    },
    {
     "name": "stdout",
     "output_type": "stream",
     "text": [
      "all is done for  HLA-A30:02  allele\n",
      "(1616, 3)\n",
      "11 9.366955445544555\n"
     ]
    },
    {
     "data": {
      "image/png": "[encoded data removed]",
      "text/plain": [
       "<Figure size 432x288 with 1 Axes>"
      ]
     },
     "metadata": {
      "needs_background": "light"
     },
     "output_type": "display_data"
    },
    {
     "name": "stdout",
     "output_type": "stream",
     "text": [
      "all is done for  HLA-A31:01  allele\n",
      "(410, 3)\n",
      "10 9.036585365853659\n"
     ]
    },
    {
     "data": {
      "image/png": "[encoded data removed]",
      "text/plain": [
       "<Figure size 432x288 with 1 Axes>"
      ]
     },
     "metadata": {
      "needs_background": "light"
     },
     "output_type": "display_data"
    },
    {
     "name": "stdout",
     "output_type": "stream",
     "text": [
      "all is done for  HLA-A32:01  allele\n",
      "(712, 3)\n",
      "13 9.456460674157304\n"
     ]
    },
    {
     "data": {
      "image/png": "[encoded data removed]",
      "text/plain": [
       "<Figure size 432x288 with 1 Axes>"
      ]
     },
     "metadata": {
      "needs_background": "light"
     },
     "output_type": "display_data"
    },
    {
     "name": "stdout",
     "output_type": "stream",
     "text": [
      "all is done for  HLA-A33:01  allele\n",
      "(1605, 3)\n",
      "13 9.471651090342679\n"
     ]
    },
    {
     "data": {
      "image/png": "[encoded data removed]",
      "text/plain": [
       "<Figure size 432x288 with 1 Axes>"
      ]
     },
     "metadata": {
      "needs_background": "light"
     },
     "output_type": "display_data"
    },
    {
     "name": "stdout",
     "output_type": "stream",
     "text": [
      "all is done for  HLA-A68:01  allele\n",
      "(1351, 3)\n",
      "13 9.376017764618801\n"
     ]
    },
    {
     "data": {
      "image/png": "[encoded data removed]",
      "text/plain": [
       "<Figure size 432x288 with 1 Axes>"
      ]
     },
     "metadata": {
      "needs_background": "light"
     },
     "output_type": "display_data"
    },
    {
     "name": "stdout",
     "output_type": "stream",
     "text": [
      "all is done for  HLA-A68:02  allele\n",
      "(249, 3)\n",
      "10 9.004016064257028\n"
     ]
    },
    {
     "data": {
      "image/png": "[encoded data removed]",
      "text/plain": [
       "<Figure size 432x288 with 1 Axes>"
      ]
     },
     "metadata": {
      "needs_background": "light"
     },
     "output_type": "display_data"
    }
   ],
   "source": [
    " with h5py.File(\"./data/MHCpan4.1/real_dataset_pure_encodeing.hdf5\", \"w\") as hf: \n",
    "    for mhc in targeted_alleles:\n",
    "        mat = process_data(mhc)\n",
    "        hf.create_dataset(mhc+\"_dataset\", data =mat)"
   ]
  },
  {
   "cell_type": "code",
   "execution_count": null,
   "metadata": {},
   "outputs": [],
   "source": []
  }
 ],
 "metadata": {
  "kernelspec": {
   "display_name": "Python 3",
   "language": "python",
   "name": "python3"
  },
  "language_info": {
   "codemirror_mode": {
    "name": "ipython",
    "version": 3
   },
   "file_extension": ".py",
   "mimetype": "text/x-python",
   "name": "python",
   "nbconvert_exporter": "python",
   "pygments_lexer": "ipython3",
   "version": "3.6.7"
  }
 },
 "nbformat": 4,
 "nbformat_minor": 2
}
